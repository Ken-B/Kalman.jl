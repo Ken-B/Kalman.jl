{
 "metadata": {
  "language": "Julia",
  "name": "",
  "signature": "sha256:e889bc4faf4543c02820a4f2cc42be1c4868790d9eab5c4061262bb1835cf283"
 },
 "nbformat": 3,
 "nbformat_minor": 0,
 "worksheets": [
  {
   "cells": [
    {
     "cell_type": "markdown",
     "metadata": {},
     "source": [
      "# Estimating a scalar constant using a Kalman filter"
     ]
    },
    {
     "cell_type": "code",
     "collapsed": false,
     "input": [
      "using Kalman\n",
      "using Distributions"
     ],
     "language": "python",
     "metadata": {},
     "outputs": [],
     "prompt_number": 1
    },
    {
     "cell_type": "markdown",
     "metadata": {},
     "source": [
      "This is the example given in [Welch and Bishop, 2006](http://www.cs.unc.edu/~welch/kalman/kalmanIntro.html).\n",
      "\n",
      "We want to estimate a constant voltage (set to $x=-0.37727\\ \\mathrm{V}$ in this example), but our measurements are corrupted by $0.1\\ \\mathrm{V}$ white, additive measurement noise. The basic Kalman Filter signal and measurement models are\n",
      "\n",
      "\\begin{align}\n",
      "\\mathbf{x}_{k+1} &= \\mathbf{Ax}_k+\\mathbf{Gw}_k \\\\\n",
      "\\mathbf{z}_{k+1} &= \\mathbf{Hx}_k+v_k\n",
      "\\end{align}\n",
      "\n",
      "since our signal doesn't change from step to step, and we are directly measuring the voltage, $\\mathbf{A} = \\mathbf{H} = 1$. Our system noise directly corrupts the signal, so $\\mathbf{G}=1$ as well. \n",
      "\n",
      "These are scalars, but for the Kalman.jl interface, we need these to be two dimensional matrices (thus the transposes below)."
     ]
    },
    {
     "cell_type": "code",
     "collapsed": false,
     "input": [
      "a = [1]'\n",
      "h = [1]'\n",
      "g = [1]'"
     ],
     "language": "python",
     "metadata": {},
     "outputs": [
      {
       "metadata": {},
       "output_type": "pyout",
       "prompt_number": 2,
       "text": [
        "1x1 Array{Int64,2}:\n",
        " 1"
       ]
      }
     ],
     "prompt_number": 2
    },
    {
     "cell_type": "markdown",
     "metadata": {},
     "source": [
      "$\\mathbf{w}_k$ is normally-distributed with a scalar variance $\\mathbf{Q} = Q$ while $\\mathbf{v}_k$ is normally-distributed with a scalar variance $\\mathbf{R}=R$. We set $R=0.1^2\\ \\mathrm{V} = 0.01\\ \\mathrm{V}$. It helps if our system noise is non-zero (which is realistic in any case), so we'll set $Q=10^{-10}\\ \\mathrm{V}$"
     ]
    },
    {
     "cell_type": "code",
     "collapsed": false,
     "input": [
      "r = [0.01]'\n",
      "q = [1e-10]'"
     ],
     "language": "python",
     "metadata": {},
     "outputs": [
      {
       "metadata": {},
       "output_type": "pyout",
       "prompt_number": 3,
       "text": [
        "1x1 Array{Float64,2}:\n",
        " 1.0e-10"
       ]
      }
     ],
     "prompt_number": 3
    },
    {
     "cell_type": "markdown",
     "metadata": {},
     "source": [
      "All we need now is our initial conditions. We'll estimate our initial voltage as $\\hat{x}_0 = 0.0\\ \\mathrm{V}$ and our initial covariance matrix as $\\hat{P}_0 = 1$. For Kalman.jl, the state is contained within a `State` type which holds a vector for the system state and a matrix for the state covariance matrix."
     ]
    },
    {
     "cell_type": "code",
     "collapsed": false,
     "input": [
      "x0 = State([0.0],[1.0]')"
     ],
     "language": "python",
     "metadata": {},
     "outputs": [
      {
       "metadata": {},
       "output_type": "pyout",
       "prompt_number": 4,
       "text": [
        "State{Float64}([0.0],1x1 Array{Float64,2}:\n",
        " 1.0)"
       ]
      }
     ],
     "prompt_number": 4
    },
    {
     "cell_type": "markdown",
     "metadata": {},
     "source": [
      "We now set up our Kalman filter. We'll use the `BasicKalmanFilter` type which holds a `State`, a `LinearModel` representing the signal model, and a `LinearObservationModel` representing the observation model."
     ]
    },
    {
     "cell_type": "code",
     "collapsed": false,
     "input": [
      "f = LinearModel(a,g,q)\n",
      "z = LinearObservationModel(h,r)\n",
      "kf0 = BasicKalmanFilter(x0,f,z)\n",
      "kf = kf0"
     ],
     "language": "python",
     "metadata": {},
     "outputs": [
      {
       "metadata": {},
       "output_type": "pyout",
       "prompt_number": 5,
       "text": [
        "BasicKalmanFilter(State{Float64}([0.0],1x1 Array{Float64,2}:\n",
        " 1.0),LinearModel(1x1 Array{Int64,2}:\n",
        " 1,1x1 Array{Int64,2}:\n",
        " 1,1x1 Array{Float64,2}:\n",
        " 1.0e-10),LinearObservationModel(1x1 Array{Int64,2}:\n",
        " 1,1x1 Array{Float64,2}:\n",
        " 0.01))"
       ]
      }
     ],
     "prompt_number": 5
    },
    {
     "cell_type": "markdown",
     "metadata": {},
     "source": [
      "We'll generate a random set of 50 measurements of our voltage. Measurements are fed to the Kalman filter as an `Observation` type."
     ]
    },
    {
     "cell_type": "code",
     "collapsed": false,
     "input": [
      "x_true = -0.37727 # We need to know our true voltage to generate the measurements\n",
      "y = map(i->Observation([i]),rand(Normal(x_true,sqrt(r[1])),50))"
     ],
     "language": "python",
     "metadata": {},
     "outputs": [
      {
       "metadata": {},
       "output_type": "pyout",
       "prompt_number": 6,
       "text": [
        "50-element Array{Observation{Float64},1}:\n",
        " Observation{Float64}([-0.339706])\n",
        " Observation{Float64}([-0.257473])\n",
        " Observation{Float64}([-0.510522])\n",
        " Observation{Float64}([-0.312941])\n",
        " Observation{Float64}([-0.523011])\n",
        " Observation{Float64}([-0.357222])\n",
        " Observation{Float64}([-0.365449])\n",
        " Observation{Float64}([-0.363608])\n",
        " Observation{Float64}([-0.358704])\n",
        " Observation{Float64}([-0.350827])\n",
        " Observation{Float64}([-0.395007])\n",
        " Observation{Float64}([-0.497025])\n",
        " Observation{Float64}([-0.395194])\n",
        " \u22ee                                \n",
        " Observation{Float64}([-0.316903])\n",
        " Observation{Float64}([-0.297676])\n",
        " Observation{Float64}([-0.200836])\n",
        " Observation{Float64}([-0.487299])\n",
        " Observation{Float64}([-0.32346]) \n",
        " Observation{Float64}([-0.314627])\n",
        " Observation{Float64}([-0.198756])\n",
        " Observation{Float64}([-0.432393])\n",
        " Observation{Float64}([-0.369049])\n",
        " Observation{Float64}([-0.379719])\n",
        " Observation{Float64}([-0.518357])\n",
        " Observation{Float64}([-0.398515])"
       ]
      }
     ],
     "prompt_number": 6
    },
    {
     "cell_type": "markdown",
     "metadata": {},
     "source": [
      "Now we run the Kalman filter by iterating over a \"predict\" step and an \"update\" step."
     ]
    },
    {
     "cell_type": "code",
     "collapsed": false,
     "input": [
      "x = zeros(Float64,50) # Store our state estimates for analysis later\n",
      "p = ones(Float64,50) # Store our state covariance for analysis later\n",
      "\n",
      "for i = 1:49\n",
      "    kf2 = predict(kf)\n",
      "    kf = update(kf2,y[i])\n",
      "    x[i+1] = kf.x.x[1]\n",
      "    p[i+1] = kf.x.p[1]\n",
      "end"
     ],
     "language": "python",
     "metadata": {},
     "outputs": [],
     "prompt_number": 7
    },
    {
     "cell_type": "markdown",
     "metadata": {},
     "source": [
      "Let's plot up some results.\n",
      "\n",
      "Here is our state estimate over the 50 measurements which we made."
     ]
    },
    {
     "cell_type": "code",
     "collapsed": false,
     "input": [
      "using Winston\n",
      "plot(x_true*ones(50),\"k\")\n",
      "oplot(map(i->i.y[1],y),\"r.\")\n",
      "oplot(x,\"b\")\n",
      "xlim(1,50)"
     ],
     "language": "python",
     "metadata": {},
     "outputs": [
      {
       "metadata": {},
       "output_type": "pyout",
       "png": "[encoded data removed]",
       "prompt_number": 8,
       "text": [
        "FramedPlot(...)"
       ]
      }
     ],
     "prompt_number": 8
    },
    {
     "cell_type": "markdown",
     "metadata": {},
     "source": [
      "That converges to $x$ very nicely!\n",
      "\n",
      "Now let's see how the state covariance changes as we add more measurements."
     ]
    },
    {
     "cell_type": "code",
     "collapsed": false,
     "input": [
      "plot(p,\"g\")\n",
      "xlim(2,50)"
     ],
     "language": "python",
     "metadata": {},
     "outputs": [
      {
       "metadata": {},
       "output_type": "pyout",
       "png": "[encoded data removed]",
       "prompt_number": 9,
       "text": [
        "FramedPlot(...)"
       ]
      }
     ],
     "prompt_number": 9
    },
    {
     "cell_type": "markdown",
     "metadata": {},
     "source": [
      "The variance of our estimate has decreased from our guess of $1\\ \\mathrm{V^2}$ to $0.0002\\ \\mathrm{V^2}$"
     ]
    }
   ],
   "metadata": {}
  }
 ]
}