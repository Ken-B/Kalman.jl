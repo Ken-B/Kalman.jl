{
 "metadata": {
  "language": "Julia",
  "name": "",
  "signature": "sha256:e56780859e5d7b4eb41eca8e4aa5fe5167b92fa78cc98f72619ded53658665c0"
 },
 "nbformat": 3,
 "nbformat_minor": 0,
 "worksheets": [
  {
   "cells": [
    {
     "cell_type": "markdown",
     "metadata": {},
     "source": [
      "# Kalman.jl\n",
      "\n",
      "The [Kalman.jl](https://github.com/wkearn/Kalman.jl) package aims to provide a Julian interface for various kinds of Kalman filter."
     ]
    },
    {
     "cell_type": "code",
     "collapsed": false,
     "input": [
      "using Kalman, Winston"
     ],
     "language": "python",
     "metadata": {},
     "outputs": [],
     "prompt_number": 1
    },
    {
     "cell_type": "markdown",
     "metadata": {},
     "source": [
      "The Kalman filter is a way to estimate the state of a system given some knowledge of the (possibly stochastic) dynamics of that system and some noisy data collected from the system. Basically you take your state estimate, run it through the system model to advance it in time (along with the covariance matrix of your estimate), then you update your state estimate and state covariance matrix with the information gained from the data you have collected.\n",
      "\n",
      "We'll try out the Kalman filter using an example from [Welch and Bishop, 2006](http://www.cs.unc.edu/~welch/media/pdf/kalman_intro.pdf).\n",
      "\n",
      "Imagine we have a voltmeter taking measurements of a noisy but, on average, constant circuit. We first need a linear state-space model of this system that looks like $ x_{k+1} = Ax_k+w_k$. Because the voltage of the circuit doesn't change from time to time, we set $A=1$ and find our model $ x_{k+1} = x_k + w_k$ where $w_k$ is a vector of white Gaussian noise with variance $Q$.\n",
      "\n",
      "The second half of the Kalman filter model is an observation model which relates the measurements you take from the system to the system state. It takes the form $ z_{k} = Hx_k + v_k$ where $v_k$ is white Gaussian noise with variance $R$. For our example, we just take direct measurements of the voltage, so $H=1$.\n",
      "\n",
      "\n",
      "## Types\n",
      "\n",
      "Now we look at how we can represent those models in Julia.\n",
      "\n",
      "\n",
      "```\n",
      "type LinearModel <: Model\n",
      "    a::Matrix\n",
      "    g::Matrix\n",
      "    q::Matrix\n",
      "end\n",
      "```\n",
      "A `LinearModel` takes a matrix `a` representing the state-transition matrix, `g` which explains how the process noise affects the system state, and `q` which is the process noise covariance matrix.\n",
      "\n",
      "We can set one of those up for our model now. Our two transition matrices are just 1 as above. We'll give our process some small (but non-zero!) noise. The circuit isn't going to be perfectly constant."
     ]
    },
    {
     "cell_type": "code",
     "collapsed": false,
     "input": [
      "f = LinearModel([1]',[1]',[1e-10]')"
     ],
     "language": "python",
     "metadata": {},
     "outputs": [
      {
       "metadata": {},
       "output_type": "pyout",
       "prompt_number": 2,
       "text": [
        "LinearModel(1x1 Array{Int64,2}:\n",
        " 1,1x1 Array{Int64,2}:\n",
        " 1,1x1 Array{Float64,2}:\n",
        " 1.0e-10)"
       ]
      }
     ],
     "prompt_number": 2
    },
    {
     "cell_type": "markdown",
     "metadata": {},
     "source": [
      "The observation model is represented with a `LinearObservationModel` type\n",
      "\n",
      "```\n",
      "type LinearObservationModel <: ObservationModel\n",
      "    h::Matrix\n",
      "    r::Matrix\n",
      "end\n",
      "```\n",
      "\n",
      "with definitions as above. For our example h is just `[1]'`, and we'll give our voltmeter $0.1\\ \\mathrm{V}$ RMS noise."
     ]
    },
    {
     "cell_type": "code",
     "collapsed": false,
     "input": [
      "z = LinearObservationModel([1]',[0.01]')"
     ],
     "language": "python",
     "metadata": {},
     "outputs": [
      {
       "metadata": {},
       "output_type": "pyout",
       "prompt_number": 3,
       "text": [
        "LinearObservationModel(1x1 Array{Int64,2}:\n",
        " 1,1x1 Array{Float64,2}:\n",
        " 0.01)"
       ]
      }
     ],
     "prompt_number": 3
    },
    {
     "cell_type": "markdown",
     "metadata": {},
     "source": [
      "Finally, we need a way to represent the state of our system. To completely describe the state, we need both a state vector and a state covariance matrix\n",
      "\n",
      "```\n",
      "type State\n",
      "    x::Vector\n",
      "    p::Matrix\n",
      "end\n",
      "```\n",
      "\n",
      "We have to seed our Kalman filter with an initial state and covariance estimate. It turns out that the covariance will converge regardless of the starting value. For our example as well, the state will converge, but there are systems with dynamics which might lead the state into a local minimum, so it's important to make a reasonable estimate for the state.\n",
      "\n",
      "We'll start with $\\hat{x}_0 = 0$ and $P_0 = 0.5$"
     ]
    },
    {
     "cell_type": "code",
     "collapsed": false,
     "input": [
      "x0 = State([0.0],[1.0]')"
     ],
     "language": "python",
     "metadata": {},
     "outputs": [
      {
       "metadata": {},
       "output_type": "pyout",
       "prompt_number": 4,
       "text": [
        "State{Float64}([0.0],1x1 Array{Float64,2}:\n",
        " 1.0)"
       ]
      }
     ],
     "prompt_number": 4
    },
    {
     "cell_type": "markdown",
     "metadata": {},
     "source": [
      "Now we have everything to make our Kalman Filter. We just stick the two models and the state into a `BasicKalmanFilter` type\n",
      "\n",
      "```\n",
      "type BasicKalmanFilter <: LinearKalmanFilter\n",
      "    x::State\n",
      "    f::LinearModel\n",
      "    z::LinearObservationModel\n",
      "    adv::Bool\n",
      "end\n",
      "```\n",
      "\n",
      "The `adv` field is a bad way of ensuring that we first advance our filter in time and then update it with some measurements. That may go away."
     ]
    },
    {
     "cell_type": "code",
     "collapsed": false,
     "input": [
      "kf = BasicKalmanFilter(x0,f,z,false)"
     ],
     "language": "python",
     "metadata": {},
     "outputs": [
      {
       "metadata": {},
       "output_type": "pyout",
       "prompt_number": 5,
       "text": [
        "BasicKalmanFilter(State{Float64}([0.0],1x1 Array{Float64,2}:\n",
        " 1.0),LinearModel(1x1 Array{Int64,2}:\n",
        " 1,1x1 Array{Int64,2}:\n",
        " 1,1x1 Array{Float64,2}:\n",
        " 1.0e-10),LinearObservationModel(1x1 Array{Int64,2}:\n",
        " 1,1x1 Array{Float64,2}:\n",
        " 0.01),false)"
       ]
      }
     ],
     "prompt_number": 5
    },
    {
     "cell_type": "markdown",
     "metadata": {},
     "source": [
      "Now we need some data. Data to be fed to the Kalman filter is wrapped in an `Observation` type (which should probably just be a typealias for a Vector). Let's assume that our true voltage $x = -0.37727\\ \\mathrm{V}$."
     ]
    },
    {
     "cell_type": "code",
     "collapsed": false,
     "input": [
      "x = -0.37727\n",
      "y = map(y->Observation([y]),x+0.1*randn(50))"
     ],
     "language": "python",
     "metadata": {},
     "outputs": [
      {
       "metadata": {},
       "output_type": "pyout",
       "prompt_number": 6,
       "text": [
        "50-element Array{Observation{Float64},1}:\n",
        " Observation{Float64}([-0.556689])\n",
        " Observation{Float64}([-0.28849]) \n",
        " Observation{Float64}([-0.429203])\n",
        " Observation{Float64}([-0.27673]) \n",
        " Observation{Float64}([-0.461203])\n",
        " Observation{Float64}([-0.348198])\n",
        " Observation{Float64}([-0.587995])\n",
        " Observation{Float64}([-0.333402])\n",
        " Observation{Float64}([-0.413611])\n",
        " Observation{Float64}([-0.502472])\n",
        " Observation{Float64}([-0.43491]) \n",
        " Observation{Float64}([-0.465556])\n",
        " Observation{Float64}([-0.275459])\n",
        " \u22ee                                \n",
        " Observation{Float64}([-0.4012])  \n",
        " Observation{Float64}([-0.494106])\n",
        " Observation{Float64}([-0.516698])\n",
        " Observation{Float64}([-0.389034])\n",
        " Observation{Float64}([-0.283263])\n",
        " Observation{Float64}([-0.198191])\n",
        " Observation{Float64}([-0.318942])\n",
        " Observation{Float64}([-0.229493])\n",
        " Observation{Float64}([-0.260345])\n",
        " Observation{Float64}([-0.485391])\n",
        " Observation{Float64}([-0.297279])\n",
        " Observation{Float64}([-0.203137])"
       ]
      }
     ],
     "prompt_number": 6
    },
    {
     "cell_type": "markdown",
     "metadata": {},
     "source": [
      "Now we can run our filter by sequentially calling `predict(kf::BasicKalmanFilter)` and `update(kf::BasicKalmanFilter,y::Observation)` or by simply calling `predictupdate(kf,y)`. We'll also store the state and variance information and plot it up with Winston."
     ]
    },
    {
     "cell_type": "code",
     "collapsed": false,
     "input": [
      "xs = x0.x[1]*ones(50)\n",
      "ps = x0.p[1]*ones(50)\n",
      "\n",
      "for i = 1:49\n",
      "    predictupdate!(kf,y[i])\n",
      "    xs[i+1] = kf.x.x[1]\n",
      "    ps[i+1] = kf.x.p[1]\n",
      "end"
     ],
     "language": "python",
     "metadata": {},
     "outputs": [],
     "prompt_number": 7
    },
    {
     "cell_type": "code",
     "collapsed": false,
     "input": [
      "plot([0,50],[x,x],\"b\")\n",
      "oplot(map(y->y.y[1],y),\"r.\")\n",
      "oplot(xs,\"g\")\n",
      "xlim(0,50)"
     ],
     "language": "python",
     "metadata": {},
     "outputs": [
      {
       "metadata": {},
       "output_type": "pyout",
       "png": "[encoded data removed]",
       "prompt_number": 8,
       "text": [
        "FramedPlot(...)"
       ]
      }
     ],
     "prompt_number": 8
    },
    {
     "cell_type": "code",
     "collapsed": false,
     "input": [
      "plot(ps[2:50],\"g\")"
     ],
     "language": "python",
     "metadata": {},
     "outputs": [
      {
       "metadata": {},
       "output_type": "pyout",
       "png": "[encoded data removed]",
       "prompt_number": 9,
       "text": [
        "FramedPlot(...)"
       ]
      }
     ],
     "prompt_number": 9
    },
    {
     "cell_type": "markdown",
     "metadata": {},
     "source": [
      "## Unscented Kalman filters.\n",
      "\n",
      "Unscented Kalman filters let you apply the prediction-update method of the Kalman filter to nonlinear models. They do this by deterministically sampling a set of \"sigma points\" which are then run through the filter equations to reconstruct the state and covariance matrices after a nonlinear transformation.\n",
      "\n",
      "Unscented Kalman filters aren't pushed to Github yet, and there are some restrictions on the kind of model you can use for it (additive Gaussian noise for now; you might be able to get away with non-Gaussian noise, but multiplicative noise definitely won't work).\n",
      "\n",
      "Still, let's see if we can't make them work. We'll take the example from Kandepu et al. (2008), a van der Pol Oscillator.\n",
      "\n",
      "The equations of motion are\n",
      "\n",
      "\\begin{align}\n",
      "\\dot{x}_1 &= -x_2 \\\\\n",
      "\\dot{x}_2 &= -\\mu (1-x_1^2)x^2 + x_1\n",
      "\\end{align}\n",
      "\n",
      "where $\\mu=0.2$."
     ]
    },
    {
     "cell_type": "code",
     "collapsed": false,
     "input": [
      "include(Pkg.dir(\"Kalman\",\"sandbox\",\"unscented.jl\"))"
     ],
     "language": "python",
     "metadata": {},
     "outputs": [
      {
       "metadata": {},
       "output_type": "pyout",
       "prompt_number": 10,
       "text": [
        "predictupdate! (generic function with 3 methods)"
       ]
      }
     ],
     "prompt_number": 10
    },
    {
     "cell_type": "code",
     "collapsed": false,
     "input": [
      "const \u03bc = 0.2\n",
      "\n",
      "x0 = State([0.,5],5.0*eye(2))\n",
      "Q = 1e-3*eye(2)\n",
      "R = [0.1 0;\n",
      "    0 1e-3]\n",
      "\n",
      "function f2(x::Vector,dt::Float64)\n",
      "    x1 = zeros(x)\n",
      "    x1[1] = x[1] + dt*-x[2]\n",
      "    x1[2] = x[2] + dt*(-\u03bc*(1-x[1]^2)*x[2]+x[1])\n",
      "    x1\n",
      "end\n",
      "\n",
      "h(x) = x\n",
      "\n",
      "dt = 0.01\n",
      "\n",
      "xs = fill(zeros(x0.x),4000)\n",
      "xs[1] = [1.4,0]\n",
      "x = [1.4,0]\n",
      "for i = 2:4000\n",
      "    x = f2(x,dt)\n",
      "    xs[i] = x\n",
      "end\n",
      "\n",
      "ys = xs .+ map(y->sqrt(R)*randn(2),1:4000)"
     ],
     "language": "python",
     "metadata": {},
     "outputs": [
      {
       "metadata": {},
       "output_type": "pyout",
       "prompt_number": 11,
       "text": [
        "4000-element Array{Array{Float64,1},1}:\n",
        " [1.09289,-0.0238201]   \n",
        " [1.46761,0.0453131]    \n",
        " [1.35845,0.0130256]    \n",
        " [1.10434,0.0656155]    \n",
        " [1.18755,0.0145539]    \n",
        " [1.32602,0.0972942]    \n",
        " [1.25023,0.136334]     \n",
        " [0.902791,0.112868]    \n",
        " [1.22303,0.0854962]    \n",
        " [1.11071,0.148996]     \n",
        " [1.36694,0.151589]     \n",
        " [1.71204,0.152962]     \n",
        " [1.61606,0.172073]     \n",
        " \u22ee                      \n",
        " [0.0785064,0.015488]   \n",
        " [-0.771996,0.0356125]  \n",
        " [0.339114,0.0404495]   \n",
        " [0.108062,0.0174942]   \n",
        " [0.323293,0.00062621]  \n",
        " [-0.0526205,0.041678]  \n",
        " [-0.0474085,0.00729233]\n",
        " [0.202621,0.0664006]   \n",
        " [-0.329399,0.0489221]  \n",
        " [-0.157211,0.0354753]  \n",
        " [0.131959,0.0343319]   \n",
        " [0.109813,0.0808878]   "
       ]
      }
     ],
     "prompt_number": 11
    },
    {
     "cell_type": "code",
     "collapsed": false,
     "input": [
      "fm = AdditiveUnscentedModel(x->f2(x,dt),Q)\n",
      "zm = AdditiveUnscentedObservationModel(h,R)\n",
      "p0 = 5.0*eye(2)\n",
      "kf = AdditiveUnscentedKalmanFilter(State([0,5.0],p0),fm,zm,0.1,2.0,0.0)\n",
      "\n",
      "xs1 = 0.0*ones(4000)\n",
      "xs2 = 5.0*ones(4000)\n",
      "ps = 5.0*ones(4000)\n",
      "\n",
      "for i = 2:4000\n",
      "    predictupdate!(kf,Observation([ys[i]]))\n",
      "    xs1[i] = kf.x.x[1]\n",
      "    xs2[i] = kf.x.x[2]\n",
      "    ps[i] = kf.x.p[1]\n",
      "end"
     ],
     "language": "python",
     "metadata": {},
     "outputs": [],
     "prompt_number": 12
    },
    {
     "cell_type": "code",
     "collapsed": false,
     "input": [
      "plot(xs1,\"k\")"
     ],
     "language": "python",
     "metadata": {},
     "outputs": [
      {
       "metadata": {},
       "output_type": "pyout",
       "png": "[encoded data removed]",
       "prompt_number": 13,
       "text": [
        "FramedPlot(...)"
       ]
      }
     ],
     "prompt_number": 13
    }
   ],
   "metadata": {}
  }
 ]
}